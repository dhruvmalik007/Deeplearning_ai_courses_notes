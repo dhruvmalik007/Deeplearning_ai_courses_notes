{
 "cells": [
  {
   "cell_type": "markdown",
   "metadata": {},
   "source": [
    "# Implementing Self editing memory (from basics to more advanced)\n",
    "\n",
    "\n",
    "This is the updated version of the tutorial with the more complex storing of the memory embeddings and contextual information about the user with the letta agents framework.\n",
    "\n",
    "- creating single step / multiple step memory functions. \n",
    "\n",
    "- defining the structure of the memory in JSON format. \n",
    "\n",
    "- defining the prompt for describing the category of the memory function and its operation.\n",
    "\n",
    "\n",
    "In the following scenario we will be creating the example profile for the medical surgeon MD that refers to the paitent profile from EHR into the memory and then responds to the user with the ancient context.\n",
    "\n"
   ]
  }
 ],
 "metadata": {
  "language_info": {
   "name": "python"
  }
 },
 "nbformat": 4,
 "nbformat_minor": 2
}
